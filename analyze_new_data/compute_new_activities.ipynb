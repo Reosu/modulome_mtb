{
 "cells": [
  {
   "cell_type": "markdown",
   "id": "df95a153",
   "metadata": {},
   "source": [
    "# 1. Setup"
   ]
  },
  {
   "cell_type": "code",
   "execution_count": 97,
   "id": "da5683e1",
   "metadata": {},
   "outputs": [],
   "source": [
    "import numpy as np\n",
    "import pandas as pd\n",
    "import seaborn as sns\n",
    "\n",
    "from pymodulon import io\n",
    "\n",
    "from pymodulon.core import IcaData\n",
    "from pymodulon.plotting import *\n",
    "from pymodulon.util import infer_activities, explained_variance"
   ]
  },
  {
   "cell_type": "markdown",
   "id": "ef9914c2",
   "metadata": {},
   "source": [
    "## Load the ICA data object"
   ]
  },
  {
   "cell_type": "code",
   "execution_count": 64,
   "id": "aa2ce15f",
   "metadata": {},
   "outputs": [],
   "source": [
    "ica_data = io.load_json_model('../mtb_ica.json')"
   ]
  },
  {
   "cell_type": "markdown",
   "id": "ba2d26b6",
   "metadata": {},
   "source": [
    "## Load the expression data"
   ]
  },
  {
   "cell_type": "code",
   "execution_count": 65,
   "id": "20ccc478",
   "metadata": {},
   "outputs": [],
   "source": [
    "tpm_file = 'example_tpm.csv' # Replace this with your TPM file"
   ]
  },
  {
   "cell_type": "code",
   "execution_count": 66,
   "id": "d9f4832e",
   "metadata": {},
   "outputs": [
    {
     "data": {
      "text/html": [
       "<div>\n",
       "<style scoped>\n",
       "    .dataframe tbody tr th:only-of-type {\n",
       "        vertical-align: middle;\n",
       "    }\n",
       "\n",
       "    .dataframe tbody tr th {\n",
       "        vertical-align: top;\n",
       "    }\n",
       "\n",
       "    .dataframe thead th {\n",
       "        text-align: right;\n",
       "    }\n",
       "</style>\n",
       "<table border=\"1\" class=\"dataframe\">\n",
       "  <thead>\n",
       "    <tr style=\"text-align: right;\">\n",
       "      <th></th>\n",
       "      <th>ctrl_1</th>\n",
       "      <th>ctrl_2</th>\n",
       "      <th>ctrl_3</th>\n",
       "      <th>levofloxacin_1</th>\n",
       "      <th>levofloxacin_2</th>\n",
       "      <th>levofloxacin_3</th>\n",
       "    </tr>\n",
       "    <tr>\n",
       "      <th>Geneid</th>\n",
       "      <th></th>\n",
       "      <th></th>\n",
       "      <th></th>\n",
       "      <th></th>\n",
       "      <th></th>\n",
       "      <th></th>\n",
       "    </tr>\n",
       "  </thead>\n",
       "  <tbody>\n",
       "    <tr>\n",
       "      <th>Rv0001</th>\n",
       "      <td>43.291670</td>\n",
       "      <td>57.997692</td>\n",
       "      <td>61.461493</td>\n",
       "      <td>174.298187</td>\n",
       "      <td>186.849710</td>\n",
       "      <td>206.928391</td>\n",
       "    </tr>\n",
       "    <tr>\n",
       "      <th>Rv0002</th>\n",
       "      <td>111.646495</td>\n",
       "      <td>126.677929</td>\n",
       "      <td>118.348454</td>\n",
       "      <td>172.232659</td>\n",
       "      <td>181.741154</td>\n",
       "      <td>184.895990</td>\n",
       "    </tr>\n",
       "    <tr>\n",
       "      <th>Rv0003</th>\n",
       "      <td>19.608825</td>\n",
       "      <td>21.890025</td>\n",
       "      <td>25.543310</td>\n",
       "      <td>89.805316</td>\n",
       "      <td>113.033258</td>\n",
       "      <td>125.090178</td>\n",
       "    </tr>\n",
       "    <tr>\n",
       "      <th>Rv0004</th>\n",
       "      <td>29.971833</td>\n",
       "      <td>37.179148</td>\n",
       "      <td>28.511932</td>\n",
       "      <td>85.380360</td>\n",
       "      <td>114.263880</td>\n",
       "      <td>121.716070</td>\n",
       "    </tr>\n",
       "    <tr>\n",
       "      <th>Rv0005</th>\n",
       "      <td>389.709274</td>\n",
       "      <td>406.457392</td>\n",
       "      <td>361.856354</td>\n",
       "      <td>1124.830085</td>\n",
       "      <td>1598.520078</td>\n",
       "      <td>1663.600726</td>\n",
       "    </tr>\n",
       "  </tbody>\n",
       "</table>\n",
       "</div>"
      ],
      "text/plain": [
       "            ctrl_1      ctrl_2      ctrl_3  levofloxacin_1  levofloxacin_2  \\\n",
       "Geneid                                                                       \n",
       "Rv0001   43.291670   57.997692   61.461493      174.298187      186.849710   \n",
       "Rv0002  111.646495  126.677929  118.348454      172.232659      181.741154   \n",
       "Rv0003   19.608825   21.890025   25.543310       89.805316      113.033258   \n",
       "Rv0004   29.971833   37.179148   28.511932       85.380360      114.263880   \n",
       "Rv0005  389.709274  406.457392  361.856354     1124.830085     1598.520078   \n",
       "\n",
       "        levofloxacin_3  \n",
       "Geneid                  \n",
       "Rv0001      206.928391  \n",
       "Rv0002      184.895990  \n",
       "Rv0003      125.090178  \n",
       "Rv0004      121.716070  \n",
       "Rv0005     1663.600726  "
      ]
     },
     "execution_count": 66,
     "metadata": {},
     "output_type": "execute_result"
    }
   ],
   "source": [
    "tpm = pd.read_csv(tpm_file, index_col=0)\n",
    "tpm.head()"
   ]
  },
  {
   "cell_type": "code",
   "execution_count": 67,
   "id": "282f2907",
   "metadata": {},
   "outputs": [
    {
     "data": {
      "text/html": [
       "<div>\n",
       "<style scoped>\n",
       "    .dataframe tbody tr th:only-of-type {\n",
       "        vertical-align: middle;\n",
       "    }\n",
       "\n",
       "    .dataframe tbody tr th {\n",
       "        vertical-align: top;\n",
       "    }\n",
       "\n",
       "    .dataframe thead th {\n",
       "        text-align: right;\n",
       "    }\n",
       "</style>\n",
       "<table border=\"1\" class=\"dataframe\">\n",
       "  <thead>\n",
       "    <tr style=\"text-align: right;\">\n",
       "      <th></th>\n",
       "      <th>ctrl_1</th>\n",
       "      <th>ctrl_2</th>\n",
       "      <th>ctrl_3</th>\n",
       "      <th>levofloxacin_1</th>\n",
       "      <th>levofloxacin_2</th>\n",
       "      <th>levofloxacin_3</th>\n",
       "    </tr>\n",
       "    <tr>\n",
       "      <th>Geneid</th>\n",
       "      <th></th>\n",
       "      <th></th>\n",
       "      <th></th>\n",
       "      <th></th>\n",
       "      <th></th>\n",
       "      <th></th>\n",
       "    </tr>\n",
       "  </thead>\n",
       "  <tbody>\n",
       "    <tr>\n",
       "      <th>Rv0001</th>\n",
       "      <td>5.468963</td>\n",
       "      <td>5.882587</td>\n",
       "      <td>5.964895</td>\n",
       "      <td>7.453667</td>\n",
       "      <td>7.553435</td>\n",
       "      <td>7.699943</td>\n",
       "    </tr>\n",
       "    <tr>\n",
       "      <th>Rv0002</th>\n",
       "      <td>6.815659</td>\n",
       "      <td>6.996365</td>\n",
       "      <td>6.899036</td>\n",
       "      <td>7.436567</td>\n",
       "      <td>7.513658</td>\n",
       "      <td>7.538352</td>\n",
       "    </tr>\n",
       "    <tr>\n",
       "      <th>Rv0003</th>\n",
       "      <td>4.365190</td>\n",
       "      <td>4.516647</td>\n",
       "      <td>4.730276</td>\n",
       "      <td>6.504705</td>\n",
       "      <td>6.833311</td>\n",
       "      <td>6.978312</td>\n",
       "    </tr>\n",
       "    <tr>\n",
       "      <th>Rv0004</th>\n",
       "      <td>4.952885</td>\n",
       "      <td>5.254713</td>\n",
       "      <td>4.883226</td>\n",
       "      <td>6.432631</td>\n",
       "      <td>6.848797</td>\n",
       "      <td>6.939180</td>\n",
       "    </tr>\n",
       "    <tr>\n",
       "      <th>Rv0005</th>\n",
       "      <td>8.609952</td>\n",
       "      <td>8.670505</td>\n",
       "      <td>8.503255</td>\n",
       "      <td>10.136773</td>\n",
       "      <td>10.643423</td>\n",
       "      <td>10.700960</td>\n",
       "    </tr>\n",
       "  </tbody>\n",
       "</table>\n",
       "</div>"
      ],
      "text/plain": [
       "          ctrl_1    ctrl_2    ctrl_3  levofloxacin_1  levofloxacin_2  \\\n",
       "Geneid                                                                 \n",
       "Rv0001  5.468963  5.882587  5.964895        7.453667        7.553435   \n",
       "Rv0002  6.815659  6.996365  6.899036        7.436567        7.513658   \n",
       "Rv0003  4.365190  4.516647  4.730276        6.504705        6.833311   \n",
       "Rv0004  4.952885  5.254713  4.883226        6.432631        6.848797   \n",
       "Rv0005  8.609952  8.670505  8.503255       10.136773       10.643423   \n",
       "\n",
       "        levofloxacin_3  \n",
       "Geneid                  \n",
       "Rv0001        7.699943  \n",
       "Rv0002        7.538352  \n",
       "Rv0003        6.978312  \n",
       "Rv0004        6.939180  \n",
       "Rv0005       10.700960  "
      ]
     },
     "execution_count": 67,
     "metadata": {},
     "output_type": "execute_result"
    }
   ],
   "source": [
    "log_tpm = np.log2(tpm+1)\n",
    "log_tpm.head()"
   ]
  },
  {
   "cell_type": "markdown",
   "id": "c5d15690",
   "metadata": {},
   "source": [
    "### Center expression data to reference"
   ]
  },
  {
   "cell_type": "code",
   "execution_count": 68,
   "id": "f458a16b",
   "metadata": {},
   "outputs": [],
   "source": [
    "reference_conditions = ['ctrl_1', 'ctrl_2', 'ctrl_3'] # Replace this with your control condition(s)"
   ]
  },
  {
   "cell_type": "code",
   "execution_count": 69,
   "id": "52f6412f",
   "metadata": {},
   "outputs": [],
   "source": [
    "log_tpm_norm = log_tpm.subtract(log_tpm[reference_conditions].mean(axis=1), axis=0)"
   ]
  },
  {
   "cell_type": "markdown",
   "id": "e20b6343",
   "metadata": {},
   "source": [
    "# 2. Infer iModulon Activities"
   ]
  },
  {
   "cell_type": "code",
   "execution_count": 70,
   "id": "7bc5026d",
   "metadata": {},
   "outputs": [
    {
     "name": "stderr",
     "output_type": "stream",
     "text": [
      "/home/anand/miniconda3/envs/pymodulon/lib/python3.8/site-packages/pymodulon/util.py:327: FutureWarning: Index.__and__ operating as a set operation is deprecated, in the future this will be a logical operation matching Series.__and__.  Use index.intersection(other) instead\n",
      "  shared_genes = ica_data.M.index & data.index\n"
     ]
    },
    {
     "data": {
      "text/html": [
       "<div>\n",
       "<style scoped>\n",
       "    .dataframe tbody tr th:only-of-type {\n",
       "        vertical-align: middle;\n",
       "    }\n",
       "\n",
       "    .dataframe tbody tr th {\n",
       "        vertical-align: top;\n",
       "    }\n",
       "\n",
       "    .dataframe thead th {\n",
       "        text-align: right;\n",
       "    }\n",
       "</style>\n",
       "<table border=\"1\" class=\"dataframe\">\n",
       "  <thead>\n",
       "    <tr style=\"text-align: right;\">\n",
       "      <th></th>\n",
       "      <th>ctrl_1</th>\n",
       "      <th>ctrl_2</th>\n",
       "      <th>ctrl_3</th>\n",
       "      <th>levofloxacin_1</th>\n",
       "      <th>levofloxacin_2</th>\n",
       "      <th>levofloxacin_3</th>\n",
       "    </tr>\n",
       "  </thead>\n",
       "  <tbody>\n",
       "    <tr>\n",
       "      <th>SigH</th>\n",
       "      <td>0.581315</td>\n",
       "      <td>0.296107</td>\n",
       "      <td>-0.877422</td>\n",
       "      <td>-2.449652</td>\n",
       "      <td>-2.724111</td>\n",
       "      <td>-2.913411</td>\n",
       "    </tr>\n",
       "    <tr>\n",
       "      <th>Polyketide Synthase Complex</th>\n",
       "      <td>0.250063</td>\n",
       "      <td>-0.077162</td>\n",
       "      <td>-0.172901</td>\n",
       "      <td>2.043456</td>\n",
       "      <td>4.991406</td>\n",
       "      <td>4.482116</td>\n",
       "    </tr>\n",
       "    <tr>\n",
       "      <th>IniR</th>\n",
       "      <td>-0.227634</td>\n",
       "      <td>0.196232</td>\n",
       "      <td>0.031402</td>\n",
       "      <td>1.223337</td>\n",
       "      <td>1.509360</td>\n",
       "      <td>1.362482</td>\n",
       "    </tr>\n",
       "    <tr>\n",
       "      <th>PyrR</th>\n",
       "      <td>0.717234</td>\n",
       "      <td>-0.662688</td>\n",
       "      <td>-0.054546</td>\n",
       "      <td>2.195382</td>\n",
       "      <td>1.496037</td>\n",
       "      <td>1.752457</td>\n",
       "    </tr>\n",
       "    <tr>\n",
       "      <th>WhiB4</th>\n",
       "      <td>0.502302</td>\n",
       "      <td>-0.455921</td>\n",
       "      <td>-0.046381</td>\n",
       "      <td>5.414587</td>\n",
       "      <td>7.102635</td>\n",
       "      <td>6.869835</td>\n",
       "    </tr>\n",
       "    <tr>\n",
       "      <th>...</th>\n",
       "      <td>...</td>\n",
       "      <td>...</td>\n",
       "      <td>...</td>\n",
       "      <td>...</td>\n",
       "      <td>...</td>\n",
       "      <td>...</td>\n",
       "    </tr>\n",
       "    <tr>\n",
       "      <th>Unc_9</th>\n",
       "      <td>0.006535</td>\n",
       "      <td>0.190818</td>\n",
       "      <td>-0.197353</td>\n",
       "      <td>1.538270</td>\n",
       "      <td>1.529223</td>\n",
       "      <td>0.899365</td>\n",
       "    </tr>\n",
       "    <tr>\n",
       "      <th>SG_13</th>\n",
       "      <td>-0.021870</td>\n",
       "      <td>-0.703529</td>\n",
       "      <td>0.725399</td>\n",
       "      <td>-1.705576</td>\n",
       "      <td>-2.922751</td>\n",
       "      <td>-2.568781</td>\n",
       "    </tr>\n",
       "    <tr>\n",
       "      <th>Central Carbon Metabolism</th>\n",
       "      <td>0.892938</td>\n",
       "      <td>-0.011735</td>\n",
       "      <td>-0.881203</td>\n",
       "      <td>-3.214607</td>\n",
       "      <td>-3.527942</td>\n",
       "      <td>-3.558974</td>\n",
       "    </tr>\n",
       "    <tr>\n",
       "      <th>Positive Regulation of Growth</th>\n",
       "      <td>0.267426</td>\n",
       "      <td>-0.081075</td>\n",
       "      <td>-0.186352</td>\n",
       "      <td>-6.393615</td>\n",
       "      <td>-6.817248</td>\n",
       "      <td>-5.408406</td>\n",
       "    </tr>\n",
       "    <tr>\n",
       "      <th>WhiB4/IdeR</th>\n",
       "      <td>-0.171917</td>\n",
       "      <td>0.357796</td>\n",
       "      <td>-0.185879</td>\n",
       "      <td>-2.833482</td>\n",
       "      <td>-2.885935</td>\n",
       "      <td>-2.354676</td>\n",
       "    </tr>\n",
       "  </tbody>\n",
       "</table>\n",
       "<p>80 rows × 6 columns</p>\n",
       "</div>"
      ],
      "text/plain": [
       "                                 ctrl_1    ctrl_2    ctrl_3  levofloxacin_1  \\\n",
       "SigH                           0.581315  0.296107 -0.877422       -2.449652   \n",
       "Polyketide Synthase Complex    0.250063 -0.077162 -0.172901        2.043456   \n",
       "IniR                          -0.227634  0.196232  0.031402        1.223337   \n",
       "PyrR                           0.717234 -0.662688 -0.054546        2.195382   \n",
       "WhiB4                          0.502302 -0.455921 -0.046381        5.414587   \n",
       "...                                 ...       ...       ...             ...   \n",
       "Unc_9                          0.006535  0.190818 -0.197353        1.538270   \n",
       "SG_13                         -0.021870 -0.703529  0.725399       -1.705576   \n",
       "Central Carbon Metabolism      0.892938 -0.011735 -0.881203       -3.214607   \n",
       "Positive Regulation of Growth  0.267426 -0.081075 -0.186352       -6.393615   \n",
       "WhiB4/IdeR                    -0.171917  0.357796 -0.185879       -2.833482   \n",
       "\n",
       "                               levofloxacin_2  levofloxacin_3  \n",
       "SigH                                -2.724111       -2.913411  \n",
       "Polyketide Synthase Complex          4.991406        4.482116  \n",
       "IniR                                 1.509360        1.362482  \n",
       "PyrR                                 1.496037        1.752457  \n",
       "WhiB4                                7.102635        6.869835  \n",
       "...                                       ...             ...  \n",
       "Unc_9                                1.529223        0.899365  \n",
       "SG_13                               -2.922751       -2.568781  \n",
       "Central Carbon Metabolism           -3.527942       -3.558974  \n",
       "Positive Regulation of Growth       -6.817248       -5.408406  \n",
       "WhiB4/IdeR                          -2.885935       -2.354676  \n",
       "\n",
       "[80 rows x 6 columns]"
      ]
     },
     "execution_count": 70,
     "metadata": {},
     "output_type": "execute_result"
    }
   ],
   "source": [
    "new_A = infer_activities(ica_data,log_tpm_norm)\n",
    "new_A"
   ]
  },
  {
   "cell_type": "code",
   "execution_count": 110,
   "id": "40e50921",
   "metadata": {},
   "outputs": [
    {
     "data": {
      "text/plain": [
       "<seaborn.matrix.ClusterGrid at 0x7f261c7ab370>"
      ]
     },
     "execution_count": 110,
     "metadata": {},
     "output_type": "execute_result"
    },
    {
     "data": {
      "image/png": "[encoded data removed]",
      "text/plain": [
       "<Figure size 720x720 with 4 Axes>"
      ]
     },
     "metadata": {
      "needs_background": "light"
     },
     "output_type": "display_data"
    }
   ],
   "source": [
    "sns.clustermap(new_A, center=0, cmap='RdBu_r')"
   ]
  },
  {
   "cell_type": "code",
   "execution_count": 122,
   "id": "29e1aab7",
   "metadata": {},
   "outputs": [
    {
     "data": {
      "text/plain": [
       "<seaborn.matrix.ClusterGrid at 0x7f2617934ee0>"
      ]
     },
     "execution_count": 122,
     "metadata": {},
     "output_type": "execute_result"
    },
    {
     "data": {
      "image/png": "[encoded data removed]",
      "text/plain": [
       "<Figure size 360x432 with 4 Axes>"
      ]
     },
     "metadata": {
      "needs_background": "light"
     },
     "output_type": "display_data"
    }
   ],
   "source": [
    "# Alternatively, only plot activities of iModulons with a minimum activity of +/-5\n",
    "\n",
    "figsize = (5,6) # Adjust this to improve readability of the clustermap below\n",
    "\n",
    "sns.clustermap(new_A[(abs(new_A) > 5).any(axis=1)], center=0, cmap='RdBu_r', figsize=figsize)"
   ]
  },
  {
   "cell_type": "markdown",
   "id": "ca7c4ddb",
   "metadata": {},
   "source": [
    "# 3. (Optional) Create a new IcaData object\n",
    "To use the extensive plotting functions developed for the PyModulon python package, you can create your own IcaData object with your data. Most information will be copied over from the old IcaData object. The major differences will be:\n",
    "1. The new Activity matrix\n",
    "2. The new log_tpm_norm matrix\n",
    "3. New sample metadata information (i.e. sample_table)"
   ]
  },
  {
   "cell_type": "code",
   "execution_count": 87,
   "id": "a3621389",
   "metadata": {},
   "outputs": [],
   "source": [
    "sample_table_file = 'example_metadata.csv' # Replace this with your new sample table/metadata file"
   ]
  },
  {
   "cell_type": "code",
   "execution_count": 94,
   "id": "caff9899",
   "metadata": {},
   "outputs": [
    {
     "data": {
      "text/html": [
       "<div>\n",
       "<style scoped>\n",
       "    .dataframe tbody tr th:only-of-type {\n",
       "        vertical-align: middle;\n",
       "    }\n",
       "\n",
       "    .dataframe tbody tr th {\n",
       "        vertical-align: top;\n",
       "    }\n",
       "\n",
       "    .dataframe thead th {\n",
       "        text-align: right;\n",
       "    }\n",
       "</style>\n",
       "<table border=\"1\" class=\"dataframe\">\n",
       "  <thead>\n",
       "    <tr style=\"text-align: right;\">\n",
       "      <th></th>\n",
       "      <th>BioProject</th>\n",
       "      <th>BioSample</th>\n",
       "      <th>SRA ID</th>\n",
       "      <th>project</th>\n",
       "      <th>condition</th>\n",
       "      <th>reference_condition</th>\n",
       "      <th>full_name</th>\n",
       "    </tr>\n",
       "  </thead>\n",
       "  <tbody>\n",
       "    <tr>\n",
       "      <th>ctrl_1</th>\n",
       "      <td>PRJNA579441</td>\n",
       "      <td>SAMN13111571</td>\n",
       "      <td>9273261</td>\n",
       "      <td>levofloxacin</td>\n",
       "      <td>control</td>\n",
       "      <td>control</td>\n",
       "      <td>levofloxacin:control</td>\n",
       "    </tr>\n",
       "    <tr>\n",
       "      <th>ctrl_2</th>\n",
       "      <td>PRJNA579441</td>\n",
       "      <td>SAMN13111569</td>\n",
       "      <td>9273259</td>\n",
       "      <td>levofloxacin</td>\n",
       "      <td>control</td>\n",
       "      <td>control</td>\n",
       "      <td>levofloxacin:control</td>\n",
       "    </tr>\n",
       "    <tr>\n",
       "      <th>ctrl_3</th>\n",
       "      <td>PRJNA579441</td>\n",
       "      <td>SAMN13111570</td>\n",
       "      <td>9273260</td>\n",
       "      <td>levofloxacin</td>\n",
       "      <td>control</td>\n",
       "      <td>control</td>\n",
       "      <td>levofloxacin:control</td>\n",
       "    </tr>\n",
       "    <tr>\n",
       "      <th>levofloxacin_1</th>\n",
       "      <td>PRJNA579441</td>\n",
       "      <td>SAMN13111573</td>\n",
       "      <td>9273263</td>\n",
       "      <td>levofloxacin</td>\n",
       "      <td>treated</td>\n",
       "      <td>control</td>\n",
       "      <td>levofloxacin:treated</td>\n",
       "    </tr>\n",
       "    <tr>\n",
       "      <th>levofloxacin_2</th>\n",
       "      <td>PRJNA579441</td>\n",
       "      <td>SAMN13111572</td>\n",
       "      <td>9273262</td>\n",
       "      <td>levofloxacin</td>\n",
       "      <td>treated</td>\n",
       "      <td>control</td>\n",
       "      <td>levofloxacin:treated</td>\n",
       "    </tr>\n",
       "  </tbody>\n",
       "</table>\n",
       "</div>"
      ],
      "text/plain": [
       "                 BioProject     BioSample   SRA ID       project condition  \\\n",
       "ctrl_1          PRJNA579441  SAMN13111571  9273261  levofloxacin   control   \n",
       "ctrl_2          PRJNA579441  SAMN13111569  9273259  levofloxacin   control   \n",
       "ctrl_3          PRJNA579441  SAMN13111570  9273260  levofloxacin   control   \n",
       "levofloxacin_1  PRJNA579441  SAMN13111573  9273263  levofloxacin   treated   \n",
       "levofloxacin_2  PRJNA579441  SAMN13111572  9273262  levofloxacin   treated   \n",
       "\n",
       "               reference_condition             full_name  \n",
       "ctrl_1                     control  levofloxacin:control  \n",
       "ctrl_2                     control  levofloxacin:control  \n",
       "ctrl_3                     control  levofloxacin:control  \n",
       "levofloxacin_1             control  levofloxacin:treated  \n",
       "levofloxacin_2             control  levofloxacin:treated  "
      ]
     },
     "execution_count": 94,
     "metadata": {},
     "output_type": "execute_result"
    }
   ],
   "source": [
    "new_sample_table = pd.read_csv('example_metadata.csv',index_col=0)\n",
    "new_sample_table.head()"
   ]
  },
  {
   "cell_type": "code",
   "execution_count": 95,
   "id": "8b96ba2e",
   "metadata": {},
   "outputs": [],
   "source": [
    "new_data = IcaData(M = ica_data.M, \n",
    "                   A = new_A, \n",
    "                   X = log_tpm_norm,\n",
    "                   gene_table = ica_data.gene_table,\n",
    "                   sample_table = new_sample_table,\n",
    "                   imodulon_table = ica_data.imodulon_table)"
   ]
  },
  {
   "cell_type": "code",
   "execution_count": 102,
   "id": "3e0da29e",
   "metadata": {},
   "outputs": [
    {
     "data": {
      "text/plain": [
       "<matplotlib.axes._subplots.AxesSubplot at 0x7f2616e28d60>"
      ]
     },
     "execution_count": 102,
     "metadata": {},
     "output_type": "execute_result"
    },
    {
     "data": {
      "image/png": "[encoded data removed]",
      "text/plain": [
       "<Figure size 64.8x144 with 1 Axes>"
      ]
     },
     "metadata": {
      "needs_background": "light"
     },
     "output_type": "display_data"
    }
   ],
   "source": [
    "plot_activities(new_data,'Peptidoglycan Biosynthesis',highlight='levofloxacin') # You can replace levofloxacin with your project name"
   ]
  },
  {
   "cell_type": "code",
   "execution_count": 140,
   "id": "37c6f3b0",
   "metadata": {},
   "outputs": [
    {
     "name": "stdout",
     "output_type": "stream",
     "text": [
      "iModulon activities explain 56% of the expression variance in the new dataset\n",
      "The Peptidoglycan Biosynthesis iModulon explains 14% of the expression variance in the new dataset\n"
     ]
    }
   ],
   "source": [
    "print('iModulon activities explain {:.0f}% of the expression variance in the new dataset'.format(explained_variance(new_data)*100))\n",
    "\n",
    "print('The Peptidoglycan Biosynthesis iModulon explains {:.0f}% of the expression variance in the new dataset' \\\n",
    "        .format(explained_variance(new_data,imodulons=['Peptidoglycan Biosynthesis'])*100)) # You can replace Peptidoglycan Biosynthesis with any iModulon, or list of iModulons"
   ]
  }
 ],
 "metadata": {
  "kernelspec": {
   "display_name": "Python 3",
   "language": "python",
   "name": "python3"
  },
  "language_info": {
   "codemirror_mode": {
    "name": "ipython",
    "version": 3
   },
   "file_extension": ".py",
   "mimetype": "text/x-python",
   "name": "python",
   "nbconvert_exporter": "python",
   "pygments_lexer": "ipython3",
   "version": "3.8.2"
  }
 },
 "nbformat": 4,
 "nbformat_minor": 5
}
