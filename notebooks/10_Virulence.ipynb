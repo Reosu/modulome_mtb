{
 "cells": [
  {
   "cell_type": "code",
   "execution_count": 1,
   "metadata": {},
   "outputs": [],
   "source": [
    "import sys\n",
    "\n",
    "from pymodulon.core import *\n",
    "from pymodulon.plotting import *\n",
    "from pymodulon.enrichment import *\n",
    "from pymodulon.compare import *\n",
    "from pymodulon.io import *\n",
    "\n",
    "from Bio.KEGG import REST\n",
    "import tqdm.notebook as tqdm\n",
    "\n",
    "import matplotlib.pyplot as plt\n",
    "import matplotlib.patches as mpatches\n",
    "from matplotlib_venn import *\n",
    "import seaborn as sns\n",
    "\n",
    "from matplotlib.lines import Line2D\n"
   ]
  },
  {
   "cell_type": "markdown",
   "metadata": {},
   "source": [
    "# Import Data and Create ICA_DATA Object"
   ]
  },
  {
   "cell_type": "code",
   "execution_count": 2,
   "metadata": {},
   "outputs": [
    {
     "name": "stderr",
     "output_type": "stream",
     "text": [
      "WARNING:root:Using the default dagostino_cutoff of 550. This may not be optimal for your dataset. Use ica_data.reoptimize_thresholds() to find the optimal threshold.\n"
     ]
    }
   ],
   "source": [
    "interim = \"../data/interim/ica_runs/180/\"\n",
    "processed = \"../data/processed_data/\"\n",
    "\n",
    "ica_data = IcaData(interim+\"S.csv\",interim+\"A.csv\", X=processed+\"log_tpm_norm.csv\",\n",
    "                  sample_table=processed+\"metadata_final.csv\", trn = processed+\"TRN.csv\",\n",
    "                   gene_table=processed+\"gene_info.csv\")\n"
   ]
  },
  {
   "cell_type": "markdown",
   "metadata": {},
   "source": [
    "## Rename iModulons"
   ]
  },
  {
   "cell_type": "code",
   "execution_count": 3,
   "metadata": {},
   "outputs": [
    {
     "data": {
      "text/html": [
       "<div>\n",
       "<style scoped>\n",
       "    .dataframe tbody tr th:only-of-type {\n",
       "        vertical-align: middle;\n",
       "    }\n",
       "\n",
       "    .dataframe tbody tr th {\n",
       "        vertical-align: top;\n",
       "    }\n",
       "\n",
       "    .dataframe thead th {\n",
       "        text-align: right;\n",
       "    }\n",
       "</style>\n",
       "<table border=\"1\" class=\"dataframe\">\n",
       "  <thead>\n",
       "    <tr style=\"text-align: right;\">\n",
       "      <th></th>\n",
       "      <th>SRX3995807</th>\n",
       "      <th>SRX3995806</th>\n",
       "      <th>SRX3995809</th>\n",
       "      <th>SRX3995808</th>\n",
       "      <th>SRX4619048</th>\n",
       "      <th>SRX4619047</th>\n",
       "      <th>SRX4619049</th>\n",
       "      <th>SRX4619050</th>\n",
       "      <th>SRX3995804</th>\n",
       "      <th>SRX3995805</th>\n",
       "      <th>...</th>\n",
       "      <th>SRX4498326</th>\n",
       "      <th>SRX4498328</th>\n",
       "      <th>SRX4498330</th>\n",
       "      <th>SRX4498336</th>\n",
       "      <th>SRX4498333</th>\n",
       "      <th>SRX4498338</th>\n",
       "      <th>SRX4498329</th>\n",
       "      <th>SRX4498325</th>\n",
       "      <th>SRX4498327</th>\n",
       "      <th>SRX4498331</th>\n",
       "    </tr>\n",
       "  </thead>\n",
       "  <tbody>\n",
       "    <tr>\n",
       "      <th>SigH</th>\n",
       "      <td>2.233529</td>\n",
       "      <td>1.747683</td>\n",
       "      <td>1.950159</td>\n",
       "      <td>1.272614</td>\n",
       "      <td>2.236327</td>\n",
       "      <td>1.461665</td>\n",
       "      <td>1.721740</td>\n",
       "      <td>1.716646</td>\n",
       "      <td>0.199084</td>\n",
       "      <td>-0.199084</td>\n",
       "      <td>...</td>\n",
       "      <td>-0.073048</td>\n",
       "      <td>-0.089859</td>\n",
       "      <td>-0.056653</td>\n",
       "      <td>0.272666</td>\n",
       "      <td>0.561386</td>\n",
       "      <td>0.565625</td>\n",
       "      <td>0.928080</td>\n",
       "      <td>0.692540</td>\n",
       "      <td>0.989420</td>\n",
       "      <td>0.978320</td>\n",
       "    </tr>\n",
       "    <tr>\n",
       "      <th>Polyketide Synthase Complex</th>\n",
       "      <td>-1.006571</td>\n",
       "      <td>-1.096669</td>\n",
       "      <td>-1.035640</td>\n",
       "      <td>-1.020379</td>\n",
       "      <td>-1.284973</td>\n",
       "      <td>-1.032381</td>\n",
       "      <td>-0.228997</td>\n",
       "      <td>-0.436043</td>\n",
       "      <td>-0.339446</td>\n",
       "      <td>0.339446</td>\n",
       "      <td>...</td>\n",
       "      <td>-0.060317</td>\n",
       "      <td>0.071409</td>\n",
       "      <td>0.197522</td>\n",
       "      <td>4.220594</td>\n",
       "      <td>4.335245</td>\n",
       "      <td>4.791054</td>\n",
       "      <td>2.873865</td>\n",
       "      <td>3.053068</td>\n",
       "      <td>3.106209</td>\n",
       "      <td>2.544357</td>\n",
       "    </tr>\n",
       "    <tr>\n",
       "      <th>IniR</th>\n",
       "      <td>-1.633546</td>\n",
       "      <td>-1.525702</td>\n",
       "      <td>-0.973362</td>\n",
       "      <td>-0.412119</td>\n",
       "      <td>-1.575615</td>\n",
       "      <td>-0.661602</td>\n",
       "      <td>-0.413391</td>\n",
       "      <td>-1.286532</td>\n",
       "      <td>-0.227573</td>\n",
       "      <td>0.227573</td>\n",
       "      <td>...</td>\n",
       "      <td>-0.082660</td>\n",
       "      <td>-0.249290</td>\n",
       "      <td>0.542238</td>\n",
       "      <td>-1.337300</td>\n",
       "      <td>-1.332386</td>\n",
       "      <td>-0.657241</td>\n",
       "      <td>-1.025463</td>\n",
       "      <td>-0.751884</td>\n",
       "      <td>-0.543233</td>\n",
       "      <td>-0.929784</td>\n",
       "    </tr>\n",
       "    <tr>\n",
       "      <th>PyrR</th>\n",
       "      <td>0.724746</td>\n",
       "      <td>0.685656</td>\n",
       "      <td>0.463208</td>\n",
       "      <td>0.779347</td>\n",
       "      <td>0.891500</td>\n",
       "      <td>0.706596</td>\n",
       "      <td>1.367180</td>\n",
       "      <td>1.396856</td>\n",
       "      <td>0.426180</td>\n",
       "      <td>-0.426180</td>\n",
       "      <td>...</td>\n",
       "      <td>0.094624</td>\n",
       "      <td>0.297912</td>\n",
       "      <td>-0.241379</td>\n",
       "      <td>1.186755</td>\n",
       "      <td>0.660442</td>\n",
       "      <td>0.640216</td>\n",
       "      <td>1.951114</td>\n",
       "      <td>2.235133</td>\n",
       "      <td>2.241501</td>\n",
       "      <td>1.747601</td>\n",
       "    </tr>\n",
       "    <tr>\n",
       "      <th>WhiB4</th>\n",
       "      <td>-0.187071</td>\n",
       "      <td>0.778767</td>\n",
       "      <td>-0.132223</td>\n",
       "      <td>0.820021</td>\n",
       "      <td>0.097570</td>\n",
       "      <td>1.035989</td>\n",
       "      <td>1.112930</td>\n",
       "      <td>0.707870</td>\n",
       "      <td>0.450103</td>\n",
       "      <td>-0.450103</td>\n",
       "      <td>...</td>\n",
       "      <td>-0.196057</td>\n",
       "      <td>-0.186073</td>\n",
       "      <td>0.212741</td>\n",
       "      <td>1.362617</td>\n",
       "      <td>1.387968</td>\n",
       "      <td>1.945811</td>\n",
       "      <td>1.459615</td>\n",
       "      <td>2.011044</td>\n",
       "      <td>1.298987</td>\n",
       "      <td>1.454773</td>\n",
       "    </tr>\n",
       "  </tbody>\n",
       "</table>\n",
       "<p>5 rows × 647 columns</p>\n",
       "</div>"
      ],
      "text/plain": [
       "                             SRX3995807  SRX3995806  SRX3995809  SRX3995808  \\\n",
       "SigH                           2.233529    1.747683    1.950159    1.272614   \n",
       "Polyketide Synthase Complex   -1.006571   -1.096669   -1.035640   -1.020379   \n",
       "IniR                          -1.633546   -1.525702   -0.973362   -0.412119   \n",
       "PyrR                           0.724746    0.685656    0.463208    0.779347   \n",
       "WhiB4                         -0.187071    0.778767   -0.132223    0.820021   \n",
       "\n",
       "                             SRX4619048  SRX4619047  SRX4619049  SRX4619050  \\\n",
       "SigH                           2.236327    1.461665    1.721740    1.716646   \n",
       "Polyketide Synthase Complex   -1.284973   -1.032381   -0.228997   -0.436043   \n",
       "IniR                          -1.575615   -0.661602   -0.413391   -1.286532   \n",
       "PyrR                           0.891500    0.706596    1.367180    1.396856   \n",
       "WhiB4                          0.097570    1.035989    1.112930    0.707870   \n",
       "\n",
       "                             SRX3995804  SRX3995805  ...  SRX4498326  \\\n",
       "SigH                           0.199084   -0.199084  ...   -0.073048   \n",
       "Polyketide Synthase Complex   -0.339446    0.339446  ...   -0.060317   \n",
       "IniR                          -0.227573    0.227573  ...   -0.082660   \n",
       "PyrR                           0.426180   -0.426180  ...    0.094624   \n",
       "WhiB4                          0.450103   -0.450103  ...   -0.196057   \n",
       "\n",
       "                             SRX4498328  SRX4498330  SRX4498336  SRX4498333  \\\n",
       "SigH                          -0.089859   -0.056653    0.272666    0.561386   \n",
       "Polyketide Synthase Complex    0.071409    0.197522    4.220594    4.335245   \n",
       "IniR                          -0.249290    0.542238   -1.337300   -1.332386   \n",
       "PyrR                           0.297912   -0.241379    1.186755    0.660442   \n",
       "WhiB4                         -0.186073    0.212741    1.362617    1.387968   \n",
       "\n",
       "                             SRX4498338  SRX4498329  SRX4498325  SRX4498327  \\\n",
       "SigH                           0.565625    0.928080    0.692540    0.989420   \n",
       "Polyketide Synthase Complex    4.791054    2.873865    3.053068    3.106209   \n",
       "IniR                          -0.657241   -1.025463   -0.751884   -0.543233   \n",
       "PyrR                           0.640216    1.951114    2.235133    2.241501   \n",
       "WhiB4                          1.945811    1.459615    2.011044    1.298987   \n",
       "\n",
       "                             SRX4498331  \n",
       "SigH                           0.978320  \n",
       "Polyketide Synthase Complex    2.544357  \n",
       "IniR                          -0.929784  \n",
       "PyrR                           1.747601  \n",
       "WhiB4                          1.454773  \n",
       "\n",
       "[5 rows x 647 columns]"
      ]
     },
     "execution_count": 3,
     "metadata": {},
     "output_type": "execute_result"
    }
   ],
   "source": [
    "comp_names = list(pd.read_csv(processed+\"iModulon_names.csv\",index_col=0).index)\n",
    "\n",
    "rename = {}\n",
    "\n",
    "for old,new in zip(range(0,80),comp_names):\n",
    "    rename.update({old:new})\n",
    "\n",
    "ica_data.rename_imodulons(rename)\n",
    "\n",
    "ica_data.change_threshold(\"Central Carbon Metabolism\",.05)\n",
    "ica_data.change_threshold(\"Peptidoglycan Biosynthesis\",.06)\n",
    "ica_data.change_threshold(\"Lsr2\",.05)\n",
    "\n",
    "\n",
    "ica_data.A.head()"
   ]
  },
  {
   "cell_type": "markdown",
   "metadata": {},
   "source": [
    "# Virulence Plots\n",
    "\n",
    "## 1D DIMA Plot"
   ]
  },
  {
   "cell_type": "code",
   "execution_count": 4,
   "metadata": {},
   "outputs": [
    {
     "data": {
      "text/plain": [
       "([], [])"
      ]
     },
     "execution_count": 4,
     "metadata": {},
     "output_type": "execute_result"
    },
    {
     "data": {
      "image/png": "[encoded data removed]",
      "text/plain": [
       "<Figure size 720x504 with 1 Axes>"
      ]
     },
     "metadata": {
      "needs_background": "light"
     },
     "output_type": "display_data"
    }
   ],
   "source": [
    "from adjustText import adjust_text\n",
    "from pymodulon.util import dima\n",
    "\n",
    "base_condition = \"miceNF:control\"\n",
    "diff_condition = \"miceNF:invivo\"\n",
    "threshold = 5\n",
    "\n",
    "table = dima(ica_data,base_condition,diff_condition,threshold=threshold)\n",
    "\n",
    "fig,ax = plt.subplots(figsize=[10,7])\n",
    "dima_samples = ica_data.sample_table.loc[ica_data.sample_table[\"full_name\"]==diff_condition].index\n",
    "activity_data = (ica_data.A[dima_samples].mean(axis=1)).sort_values()\n",
    "\n",
    "labels=[]\n",
    "width = 0\n",
    "bars = plt.bar(activity_data.index,activity_data)\n",
    "\n",
    "# You can use this section to control which labels you want to display. Just add an additional if/else statement\n",
    "# to filter out any labels that don't meet a certain criteria (Ex. Only put labels on activity greater than 10,\n",
    "# but still color all points with activity greater than 5)\n",
    "for i in range(0,len(activity_data)):\n",
    "    if activity_data.index[i] in table.index:\n",
    "        if \"SG\" in activity_data.index[i]:\n",
    "            ax.bar(activity_data.index[i],activity_data[i],color=\"tab:grey\")\n",
    "        elif abs(activity_data[i]) < 10:\n",
    "            ax.bar(activity_data.index[i],activity_data[i],color=\"lightblue\")\n",
    "        else:\n",
    "            ax.bar(activity_data.index[i],activity_data[i],color=\"lightblue\")\n",
    "            labels.append(ax.text(width, activity_data[i],\n",
    "                                  activity_data.index[i],fontsize=10))\n",
    "    else:\n",
    "        ax.bar(activity_data.index[i],activity_data[i],color=\"tab:gray\")\n",
    "    width+=1\n",
    "\n",
    "adjust_text(labels,ax=ax, add_objects= bars, \n",
    "            arrowprops=dict(arrowstyle=\"-\",color=\"gray\",lw=1,alpha=.8,zorder=0))\n",
    "\n",
    "ax.plot([-1,80],[0,0],color=\"black\")\n",
    "ax.set_xlim([-1,80])\n",
    "ax.set_xlabel(\"iModulons\",fontsize=15)\n",
    "ax.set_ylabel(\"Mice Neutrophils In-vivo \",fontsize=15)\n",
    "ax.set_title(\"In-vivo Neutrophil \",fontsize=15)\n",
    "    \n",
    "plt.xticks([])\n",
    "#plt.savefig(\"../figures/interim_figures/Neutrophil_DIMA.svg\",transparent=True)"
   ]
  },
  {
   "cell_type": "markdown",
   "metadata": {},
   "source": [
    "## Virulence Venn Diagram"
   ]
  },
  {
   "cell_type": "code",
   "execution_count": 5,
   "metadata": {},
   "outputs": [],
   "source": [
    "table1 = dima(ica_data,\"miceBMDM:inf02\",\"miceBMDM:no_inf02\")\n",
    "table2 = dima(ica_data,\"miceBMDM:inf08\",\"miceBMDM:no_inf08\")\n",
    "table3 = dima(ica_data,\"miceBMDM:inf24\",\"miceBMDM:no_inf24\")"
   ]
  },
  {
   "cell_type": "code",
   "execution_count": 6,
   "metadata": {},
   "outputs": [],
   "source": [
    "table = dima(ica_data,\"miceNF:control\",\"miceNF:invivo\")"
   ]
  },
  {
   "cell_type": "code",
   "execution_count": 7,
   "metadata": {},
   "outputs": [
    {
     "ename": "ModuleNotFoundError",
     "evalue": "No module named 'venn'",
     "output_type": "error",
     "traceback": [
      "\u001b[1;31m---------------------------------------------------------------------------\u001b[0m",
      "\u001b[1;31mModuleNotFoundError\u001b[0m                       Traceback (most recent call last)",
      "\u001b[1;32m<ipython-input-7-952edecdf3cc>\u001b[0m in \u001b[0;36m<module>\u001b[1;34m\u001b[0m\n\u001b[1;32m----> 1\u001b[1;33m \u001b[1;32mfrom\u001b[0m \u001b[0mvenn\u001b[0m \u001b[1;32mimport\u001b[0m \u001b[0mvenn\u001b[0m\u001b[1;33m\u001b[0m\u001b[1;33m\u001b[0m\u001b[0m\n\u001b[0m\u001b[0;32m      2\u001b[0m data = {\"Mice Macrophage 2 Hours\":set(table1.index),\n\u001b[0;32m      3\u001b[0m         \u001b[1;34m\"Mice Macrophage 8 Hours\"\u001b[0m\u001b[1;33m:\u001b[0m\u001b[0mset\u001b[0m\u001b[1;33m(\u001b[0m\u001b[0mtable2\u001b[0m\u001b[1;33m.\u001b[0m\u001b[0mindex\u001b[0m\u001b[1;33m)\u001b[0m\u001b[1;33m,\u001b[0m\u001b[1;33m\u001b[0m\u001b[1;33m\u001b[0m\u001b[0m\n\u001b[0;32m      4\u001b[0m         \u001b[1;34m\"Mice Macrophage 24 Hours\"\u001b[0m\u001b[1;33m:\u001b[0m\u001b[0mset\u001b[0m\u001b[1;33m(\u001b[0m\u001b[0mtable3\u001b[0m\u001b[1;33m.\u001b[0m\u001b[0mindex\u001b[0m\u001b[1;33m)\u001b[0m\u001b[1;33m,\u001b[0m\u001b[1;33m\u001b[0m\u001b[1;33m\u001b[0m\u001b[0m\n\u001b[0;32m      5\u001b[0m         \"Mice Neutrophil\":set(table.index)}\n",
      "\u001b[1;31mModuleNotFoundError\u001b[0m: No module named 'venn'"
     ]
    }
   ],
   "source": [
    "from venn import venn\n",
    "data = {\"Mice Macrophage 2 Hours\":set(table1.index),\n",
    "        \"Mice Macrophage 8 Hours\":set(table2.index),\n",
    "        \"Mice Macrophage 24 Hours\":set(table3.index),\n",
    "        \"Mice Neutrophil\":set(table.index)}\n",
    "venn(data)\n",
    "#plt.savefig(\"../figures/interim_figures/Virulence_Venn.svg\",transparent = True)"
   ]
  },
  {
   "cell_type": "code",
   "execution_count": null,
   "metadata": {},
   "outputs": [],
   "source": []
  }
 ],
 "metadata": {
  "kernelspec": {
   "display_name": "Python 3",
   "language": "python",
   "name": "python3"
  },
  "language_info": {
   "codemirror_mode": {
    "name": "ipython",
    "version": 3
   },
   "file_extension": ".py",
   "mimetype": "text/x-python",
   "name": "python",
   "nbconvert_exporter": "python",
   "pygments_lexer": "ipython3",
   "version": "3.7.4"
  },
  "toc": {
   "base_numbering": 1,
   "nav_menu": {},
   "number_sections": true,
   "sideBar": true,
   "skip_h1_title": false,
   "title_cell": "Table of Contents",
   "title_sidebar": "Contents",
   "toc_cell": false,
   "toc_position": {},
   "toc_section_display": true,
   "toc_window_display": false
  }
 },
 "nbformat": 4,
 "nbformat_minor": 4
}
